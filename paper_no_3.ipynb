{
  "nbformat": 4,
  "nbformat_minor": 0,
  "metadata": {
    "colab": {
      "provenance": []
    },
    "kernelspec": {
      "name": "python3",
      "display_name": "Python 3"
    },
    "language_info": {
      "name": "python"
    }
  },
  "cells": [
    {
      "cell_type": "markdown",
      "source": [],
      "metadata": {
        "id": "7GXaXOoBpAqf"
      }
    },
    {
      "cell_type": "markdown",
      "source": [
        "#Theory Questions"
      ],
      "metadata": {
        "id": "8fP7ZAwGpB4F"
      }
    },
    {
      "cell_type": "markdown",
      "source": [
        "Q 1) What is the difference between a function and a method in Python?\n",
        "    \n",
        "    *function and method\n",
        "    \n",
        "    Association:\n",
        "    Functions are independent, while methods are associated with objects or classes.\n",
        "\n",
        "    Invocation:\n",
        "    Functions are called by name, while methods are called on an object (using dot notation or similar).\n",
        "    \n",
        "    Data Access:\n",
        "    Methods can access and modify the object's internal data, while functions generally operate on data passed to them as arguments.\n",
        "\n",
        "    Object Context:\n",
        "    Methods are always called within the context of an object, while functions can be called independently.\n",
        "\n",
        "    "
      ],
      "metadata": {
        "id": "VOShh5r3pMOR"
      }
    },
    {
      "cell_type": "code",
      "source": [
        "# Example of function\n",
        "\n",
        "def greet(name):\n",
        "    return f\"Hello, {name}!\"\n",
        "\n",
        "print(greet(\"Alice\"))\n"
      ],
      "metadata": {
        "colab": {
          "base_uri": "https://localhost:8080/"
        },
        "id": "wb2PGKHArtq5",
        "outputId": "1e0410ec-cfae-4f86-cd18-8f12b28523ed"
      },
      "execution_count": 1,
      "outputs": [
        {
          "output_type": "stream",
          "name": "stdout",
          "text": [
            "Hello, Alice!\n"
          ]
        }
      ]
    },
    {
      "cell_type": "code",
      "source": [
        "# Example of method\n",
        "\n",
        "class Greeter:\n",
        "    def greet(self, name):\n",
        "        return f\"Hello, {name}!\"\n",
        "\n",
        "g = Greeter()\n",
        "print(g.greet(\"Bob\"))"
      ],
      "metadata": {
        "colab": {
          "base_uri": "https://localhost:8080/"
        },
        "id": "aAT_bsrUsavN",
        "outputId": "78321c6f-f1d6-4d8a-bf84-7e6c5b40b861"
      },
      "execution_count": 2,
      "outputs": [
        {
          "output_type": "stream",
          "name": "stdout",
          "text": [
            "Hello, Bob!\n"
          ]
        }
      ]
    },
    {
      "cell_type": "markdown",
      "source": [
        "Q 2) Explain the concept of function arguments and parameters in Python?\n",
        "   \n",
        "    Parameter -\tThe variable listed inside the parentheses in the function definition.\n",
        "\n",
        "    Argument -\tThe value that is sent to the function when it is called.\n",
        "\n",
        "    ✅ Example:\n",
        "\n",
        "    Function definition with a parameter\n",
        "    def greet(name):  # 'name' is a parameter\n",
        "    print(f\"Hello, {name}!\")\n",
        "\n",
        "    Function call with an argument\n",
        "    greet(\"Alice\")  # \"Alice\" is an argument\n",
        "\n",
        "    🧠 Explanation:\n",
        "\n",
        "    name is a parameter: it’s a placeholder for input.\n",
        "\n",
        "    \"Alice\" is an argument: it’s the actual value passed when calling the function.\n",
        "\n",
        "    🔄 Types of Arguments in Python\n",
        "\n",
        "    1 Positional arguments\n",
        "\n",
        "    2 Keyword arguments\n",
        "\n",
        "    3 Default arguments\n",
        "\n",
        "    4 Variable-length arguments (*args, **kwargs)"
      ],
      "metadata": {
        "id": "5NUqv0-ts6yK"
      }
    },
    {
      "cell_type": "code",
      "source": [
        "# Example with All:\n",
        "\n",
        "def student_info(name, age=18, *subjects, **details):\n",
        "    print(\"Name:\", name)\n",
        "    print(\"Age:\", age)\n",
        "    print(\"Subjects:\", subjects)\n",
        "    print(\"Details:\", details)\n",
        "\n",
        "student_info(\"John\", 20, \"Math\", \"Science\", city=\"New York\", grade=\"A\")"
      ],
      "metadata": {
        "colab": {
          "base_uri": "https://localhost:8080/"
        },
        "id": "DHqS-aPjsulA",
        "outputId": "ddfdf411-fae3-498e-86c2-48a1693f42e5"
      },
      "execution_count": 3,
      "outputs": [
        {
          "output_type": "stream",
          "name": "stdout",
          "text": [
            "Name: John\n",
            "Age: 20\n",
            "Subjects: ('Math', 'Science')\n",
            "Details: {'city': 'New York', 'grade': 'A'}\n"
          ]
        }
      ]
    },
    {
      "cell_type": "code",
      "source": [
        "#  Q 3)  What are the different ways to define and call a function in Python?\n",
        "\n",
        "# combined output:\n",
        "\n",
        "#1. Basic Function Definition and Call\n",
        "#Definition:\n",
        "def greet():\n",
        "    print(\"Hello!\")\n",
        "\n",
        "# Call:\n",
        "greet()\n",
        "\n",
        "#2. Function with Parameters\n",
        "#Definition:\n",
        "def greet(name):\n",
        "    print(f\"Hello, {name}!\")\n",
        "\n",
        "#Call:\n",
        "greet(\"Alice\")\n",
        "\n",
        "# 3. Function with Default Parameters\n",
        "#Definition:\n",
        "def greet(name=\"Guest\"):\n",
        "    print(f\"Hello, {name}!\")\n",
        "\n",
        "#Calls:\n",
        "greet(\"John\")    # Hello, John!\n",
        "greet()          # Hello, Guest!\n",
        "\n",
        "#4. Function with Return Values\n",
        "#Definition:\n",
        "def add(a, b):\n",
        "    return a + b\n",
        "\n",
        "#Calls:\n",
        "result = add(5, 3)  # result = 8\n",
        "\n",
        "#5. Keyword Arguments\n",
        "#Pass arguments by name (order doesn’t matter)\n",
        "def introduce(name, age):\n",
        "    print(f\"My name is {name} and I'm {age} years old.\")\n",
        "\n",
        "introduce(age=25, name=\"Alice\")\n",
        "\n",
        "#6. Variable-Length Arguments\n",
        "#Positional (*args)\n",
        "def sum_all(*numbers):\n",
        "    return sum(numbers)\n",
        "\n",
        "print(sum_all(1, 2, 3))  # 6\n",
        "\n",
        "#Keyword (**kwargs)\n",
        "def show_info(**info):\n",
        "    for key, value in info.items():\n",
        "        print(f\"{key}: {value}\")\n",
        "\n",
        "show_info(name=\"Bob\", age=30)\n",
        "\n",
        "#7. Lambda (Anonymous) Functions\n",
        "#Useful for small, one-line functions.\n",
        "square = lambda x: x * x\n",
        "print(square(4))  # 16\n"
      ],
      "metadata": {
        "colab": {
          "base_uri": "https://localhost:8080/"
        },
        "id": "7z9cj0IryMuf",
        "outputId": "f23301eb-f303-4c53-ef22-fd43973c1f25"
      },
      "execution_count": null,
      "outputs": [
        {
          "output_type": "stream",
          "name": "stdout",
          "text": [
            "Hello!\n",
            "Hello, Alice!\n",
            "Hello, John!\n",
            "Hello, Guest!\n",
            "My name is Alice and I'm 25 years old.\n",
            "6\n",
            "name: Bob\n",
            "age: 30\n",
            "16\n"
          ]
        }
      ]
    },
    {
      "cell_type": "code",
      "source": [
        "# Q 4) What is the purpose of the `return` statement in a Python function?\n",
        "\n",
        "#1. Send a Result Back to the Caller\n",
        "#It ends the function and returns a value to the place where the function was called.\n",
        "\n",
        "#Example:\n",
        "def add(a, b):\n",
        "    return a + b\n",
        "\n",
        "result = add(3, 5)\n",
        "print(result)  # Output: 8\n"
      ],
      "metadata": {
        "colab": {
          "base_uri": "https://localhost:8080/"
        },
        "id": "mUTVJM9D2ab8",
        "outputId": "113746e8-5eaf-401f-9e54-be47a5bef6f7"
      },
      "execution_count": 5,
      "outputs": [
        {
          "output_type": "stream",
          "name": "stdout",
          "text": [
            "8\n"
          ]
        }
      ]
    },
    {
      "cell_type": "code",
      "source": [
        "# 2. Exit a Function Early\n",
        "#Once return is executed, the function stops running—even if there is more code after it.\n",
        "\n",
        "#Example:\n",
        "def check_number(n):\n",
        "    if n > 0:\n",
        "        return \"Positive\"\n",
        "    return \"Non-positive\"\n"
      ],
      "metadata": {
        "id": "RFik0N3W2vsL"
      },
      "execution_count": 6,
      "outputs": []
    },
    {
      "cell_type": "code",
      "source": [
        "#3. Return Multiple Values\n",
        "#You can return multiple values as a tuple.\n",
        "\n",
        "#Example:\n",
        "def get_stats(numbers):\n",
        "    return min(numbers), max(numbers), sum(numbers)\n",
        "\n",
        "low, high, total = get_stats([1, 2, 3])\n",
        "print(low, high, total)  # Output: 1 3 6\n"
      ],
      "metadata": {
        "colab": {
          "base_uri": "https://localhost:8080/"
        },
        "id": "KSisivsN26UX",
        "outputId": "154d0e81-c3fa-4edf-d1ee-5c8149510fdf"
      },
      "execution_count": 7,
      "outputs": [
        {
          "output_type": "stream",
          "name": "stdout",
          "text": [
            "1 3 6\n"
          ]
        }
      ]
    },
    {
      "cell_type": "code",
      "source": [
        "#Q 5) What are iterators in Python and how do they differ from iterables?\n",
        "#🔍 Iterators vs Iterables in Python\n",
        "#Understanding the difference between iterators and iterables is key when working with loops and sequences in Python.\n",
        "\n",
        "#🔹 1. Iterable\n",
        "#An iterable is any Python object you can loop over (use in a for loop).\n",
        "#It implements the __iter__() method and returns an iterator.\n",
        "\n",
        "#✅ Examples of Iterables:\n",
        "#Lists: [1, 2, 3]\n",
        "\n",
        "#Tuples: (4, 5, 6)\n",
        "\n",
        "#Strings: \"hello\"\n",
        "\n",
        "#Dictionaries\n",
        "\n",
        "#Sets\n",
        "\n",
        "#✅ Example:\n",
        "my_list = [1, 2, 3]\n",
        "\n",
        "for item in my_list:  # my_list is iterable\n",
        "    print(item)\n"
      ],
      "metadata": {
        "colab": {
          "base_uri": "https://localhost:8080/"
        },
        "id": "o60CfaGP3EEX",
        "outputId": "41271fe4-62c5-4e23-85f6-52847e802c25"
      },
      "execution_count": 8,
      "outputs": [
        {
          "output_type": "stream",
          "name": "stdout",
          "text": [
            "1\n",
            "2\n",
            "3\n"
          ]
        }
      ]
    },
    {
      "cell_type": "code",
      "source": [
        "#🔹 2. Iterator\n",
        "#An iterator is an object that keeps state and produces the next value when you call next() on it.\n",
        "#It implements two methods:\n",
        "\n",
        "#__iter__()\n",
        "\n",
        "#__next__()\n",
        "\n",
        "#✅ How to Get an Iterator from an Iterable:\n",
        "my_list = [1, 2, 3]\n",
        "it = iter(my_list)  # now 'it' is an iterator\n",
        "\n",
        "print(next(it))  # 1\n",
        "print(next(it))  # 2\n",
        "print(next(it))  # 3\n"
      ],
      "metadata": {
        "colab": {
          "base_uri": "https://localhost:8080/"
        },
        "id": "MaF_Utkb3-Hz",
        "outputId": "635b7838-839b-419e-b367-91080b69d7fa"
      },
      "execution_count": 9,
      "outputs": [
        {
          "output_type": "stream",
          "name": "stdout",
          "text": [
            "1\n",
            "2\n",
            "3\n"
          ]
        }
      ]
    },
    {
      "cell_type": "markdown",
      "source": [
        " Key Differences\n",
        " | Feature     | Iterable                       | Iterator                       |\n",
        "| ----------- | ------------------------------ | ------------------------------ |\n",
        "| Definition  | Object that can be looped over | Object used to fetch next item |\n",
        "| Key Methods | `__iter__()`                   | `__iter__()`, `__next__()`     |\n",
        "| Used in     | `for` loops, comprehensions    | Manual iteration (`next()`)    |\n",
        "| Example     | List, String, Set              | Result of `iter()`             |\n"
      ],
      "metadata": {
        "id": "sBiDH07P4Ytd"
      }
    },
    {
      "cell_type": "code",
      "source": [
        "# 🔧 Custom Iterator Example\n",
        "#You can define your own iterator class:\n",
        "class Counter:\n",
        "    def __init__(self, limit):\n",
        "        self.current = 0\n",
        "        self.limit = limit\n",
        "\n",
        "    def __iter__(self):\n",
        "        return self\n",
        "\n",
        "    def __next__(self):\n",
        "        if self.current < self.limit:\n",
        "            val = self.current\n",
        "            self.current += 1\n",
        "            return val\n",
        "        raise StopIteration\n",
        "\n",
        "counter = Counter(3)\n",
        "for num in counter:\n",
        "    print(num)\n",
        "# Output: 0 1 2\n"
      ],
      "metadata": {
        "colab": {
          "base_uri": "https://localhost:8080/"
        },
        "id": "pMgKvhnG4fOk",
        "outputId": "e52bced0-7b79-4a1b-9777-35f497363329"
      },
      "execution_count": 10,
      "outputs": [
        {
          "output_type": "stream",
          "name": "stdout",
          "text": [
            "0\n",
            "1\n",
            "2\n"
          ]
        }
      ]
    },
    {
      "cell_type": "markdown",
      "source": [
        "Q 6) Explain the concept of generators in Python and how they are defined?\n",
        "     \n",
        "    *Generators in Python\n",
        "    A generator in Python is a special kind of iterator that allows you to generate values on the fly instead of storing them all in memory. Generators are useful for working with large data sets, streams, or infinite sequences.\n",
        "\n",
        "    1 What is a Generator?\n",
        "    A generator is a function that:\n",
        "\n",
        "    uses the yield keyword instead of return\n",
        "\n",
        "    pauses after yielding a value, resumes from the same spot on the next call\n",
        ""
      ],
      "metadata": {
        "id": "9WedAatx5EYh"
      }
    },
    {
      "cell_type": "code",
      "source": [
        "#2. How to Define a Generator Function\n",
        "#Syntax:\n",
        "\n",
        "def my_generator():\n",
        "    yield 1\n",
        "    yield 2\n",
        "    yield 3\n",
        "#This does not return all values at once. It returns a generator object."
      ],
      "metadata": {
        "id": "N7Fl6o_L5rmZ"
      },
      "execution_count": 14,
      "outputs": []
    },
    {
      "cell_type": "code",
      "source": [
        "# 3. How to Use a Generator\n",
        "gen = my_generator()\n",
        "\n",
        "print(next(gen))  # Output: 1\n",
        "print(next(gen))  # Output: 2\n",
        "print(next(gen))  # Output: 3\n",
        "# next(gen) now raises StopIteration\n"
      ],
      "metadata": {
        "colab": {
          "base_uri": "https://localhost:8080/"
        },
        "id": "KFG1dSkA6DKx",
        "outputId": "1da64d90-e95b-4053-d798-867f665c6557"
      },
      "execution_count": 15,
      "outputs": [
        {
          "output_type": "stream",
          "name": "stdout",
          "text": [
            "1\n",
            "2\n",
            "3\n"
          ]
        }
      ]
    },
    {
      "cell_type": "markdown",
      "source": [
        "Q 7) 7. What are the advantages of using generators over regular functions?\n",
        "     \n",
        "    *Cleaner and More Readable Code\n",
        "    Generators make code shorter and simpler compared to manually writing an iterator class with __iter__() and __next__().\n",
        "\n",
        "    Better Performance:\n",
        "    Since values are generated on-the-fly, generators often run faster and start returning values sooner than functions that process all data before returning.\n",
        "\n",
        "    Pipelining:\n",
        "    You can chain multiple generators together, processing data in stages like a production line — useful for functional-style programming.\n",
        "\n",
        "    Lazy Evaluation:\n",
        "    Generators produce values only when needed (on-demand). This makes them faster to start and more responsive in data pipelines.\n",
        "\n",
        "    Use Case:\n",
        "    Efficient file reading, streaming APIs, or handling big logs line by line.\n",
        "\n"
      ],
      "metadata": {
        "id": "29qJKwj86wCn"
      }
    },
    {
      "cell_type": "code",
      "source": [
        "#Memory Efficiency\n",
        "#Generators do not store all values in memory. Instead, they yield one item at a time, making them ideal for large datasets or streams.\n",
        "def count_up_to(n):\n",
        "    for i in range(n):\n",
        "        yield i\n",
        "#This uses far less memory than returning a full list like [0, 1, 2, ..., n-1]."
      ],
      "metadata": {
        "id": "T7Hpggcy7pb0"
      },
      "execution_count": 17,
      "outputs": []
    },
    {
      "cell_type": "markdown",
      "source": [
        "Q 8) What is a lambda function in Python and when is it typically used?\n",
        "  \n",
        "    *A lambda function is a small, anonymous (unnamed) function defined using the lambda keyword.\n",
        "    It is used for short, simple operations, especially when defining a function in a single line.\n",
        "\n",
        "    Typical Uses of Lambda Functions:\n",
        "    Lambda functions are most often used:\n",
        "\n",
        "    When you need a quick function temporarily\n",
        "\n",
        "    As arguments to higher-order functions (like map(), filter(), sorted(), etc.)\n",
        "\n",
        "    To avoid defining full functions for short logic\n",
        "\n",
        "    Limitations of Lambda Functions:\n",
        "    Only one expression allowed (no statements, loops, or assignments)\n",
        "\n",
        "    Hard to read if overused or complex\n",
        "\n",
        "    Can't have docstrings or annotations"
      ],
      "metadata": {
        "id": "24pX5Jvd8Sto"
      }
    },
    {
      "cell_type": "code",
      "source": [
        "# Syntax of Lambda Function\n",
        "square = lambda x: x * x\n",
        "print(square(5))  # Output: 25\n",
        "\n"
      ],
      "metadata": {
        "colab": {
          "base_uri": "https://localhost:8080/"
        },
        "id": "NL4a60rU71HV",
        "outputId": "3d80f561-2823-410e-a31a-dd3ed4fce484"
      },
      "execution_count": 19,
      "outputs": [
        {
          "output_type": "stream",
          "name": "stdout",
          "text": [
            "25\n"
          ]
        }
      ]
    },
    {
      "cell_type": "code",
      "source": [
        "# Common Examples\n",
        "# With map() — Apply a function to all items:\n",
        "nums = [1, 2, 3]\n",
        "squares = list(map(lambda x: x * x, nums))\n",
        "print(squares)  # [1, 4, 9]\n"
      ],
      "metadata": {
        "colab": {
          "base_uri": "https://localhost:8080/"
        },
        "id": "vX4w2agB8ALO",
        "outputId": "4bc21e7f-56f9-4416-dabe-cc0af1aa278a"
      },
      "execution_count": 20,
      "outputs": [
        {
          "output_type": "stream",
          "name": "stdout",
          "text": [
            "[1, 4, 9]\n"
          ]
        }
      ]
    },
    {
      "cell_type": "code",
      "source": [
        "# Q 9)  Explain the purpose and usage of the `map()` function in Python?\n",
        "#map() Function in Python — Purpose and Usage\n",
        "#The map() function in Python is used to apply a function to every item in an iterable (like a list, tuple, etc.) and return a new iterable (map object) with the transformed results.\n",
        "\n",
        "# 1. Purpose of map()\n",
        "#To transform each element of an iterable without writing a loop\n",
        "\n",
        "#To make code cleaner and more concise\n",
        "\n",
        "# Basic Example\n",
        "def square(x):\n",
        "    return x * x\n",
        "\n",
        "numbers = [1, 2, 3, 4]\n",
        "result = map(square, numbers)\n",
        "\n",
        "print(list(result))  # Output: [1, 4, 9, 16]\n",
        "\n"
      ],
      "metadata": {
        "colab": {
          "base_uri": "https://localhost:8080/"
        },
        "id": "rtRv1DCg9QxN",
        "outputId": "8e3df58e-c04c-4f54-bfc8-f0d738740487"
      },
      "execution_count": 22,
      "outputs": [
        {
          "output_type": "stream",
          "name": "stdout",
          "text": [
            "[1, 4, 9, 16]\n"
          ]
        }
      ]
    },
    {
      "cell_type": "code",
      "source": [
        "#Using map() with a Lambda Function:\n",
        "numbers = [1, 2, 3, 4]\n",
        "squares = list(map(lambda x: x ** 2, numbers))\n",
        "\n",
        "print(squares)  # Output: [1, 4, 9, 16]\n"
      ],
      "metadata": {
        "colab": {
          "base_uri": "https://localhost:8080/"
        },
        "id": "3lBZQRLL-AQ2",
        "outputId": "db17ff0f-e3c1-44c2-992e-040d7d73f573"
      },
      "execution_count": 23,
      "outputs": [
        {
          "output_type": "stream",
          "name": "stdout",
          "text": [
            "[1, 4, 9, 16]\n"
          ]
        }
      ]
    },
    {
      "cell_type": "code",
      "source": [
        "#Q 10) What is the difference between `map()`, `reduce()`, and `filter()` functions in Python?\n",
        "# Difference between map(), filter(), and reduce() in Python\n",
        "\n",
        "from functools import reduce\n",
        "\n",
        "# Sample data\n",
        "nums = [1, 2, 3, 4, 5]\n",
        "\n",
        "# 1️⃣ map(): Applies a function to each item\n",
        "squares = list(map(lambda x: x * x, nums))\n",
        "print(\"map() - Squares:\", squares)\n",
        "# Output: [1, 4, 9, 16, 25]\n",
        "\n",
        "# 2️⃣ filter(): Filters items based on a condition\n",
        "evens = list(filter(lambda x: x % 2 == 0, nums))\n",
        "print(\"filter() - Evens:\", evens)\n",
        "# Output: [2, 4]\n",
        "\n",
        "# 3️⃣ reduce(): Reduces items to a single cumulative value\n",
        "product = reduce(lambda x, y: x * y, nums)\n",
        "print(\"reduce() - Product:\", product)\n",
        "# Output: 120\n",
        "\n",
        "# Summary:\n",
        "print(\"\\nSummary:\")\n",
        "print(\"map(): Transforms each item individually\")\n",
        "print(\"filter(): Keeps only items that match a condition\")\n",
        "print(\"reduce(): Combines all items into a single result\")\n"
      ],
      "metadata": {
        "colab": {
          "base_uri": "https://localhost:8080/"
        },
        "id": "vCYBBfEY-lgZ",
        "outputId": "ca614962-c0d9-403a-96e8-5cbe0987cb7f"
      },
      "execution_count": 24,
      "outputs": [
        {
          "output_type": "stream",
          "name": "stdout",
          "text": [
            "map() - Squares: [1, 4, 9, 16, 25]\n",
            "filter() - Evens: [2, 4]\n",
            "reduce() - Product: 120\n",
            "\n",
            "Summary:\n",
            "map(): Transforms each item individually\n",
            "filter(): Keeps only items that match a condition\n",
            "reduce(): Combines all items into a single result\n"
          ]
        }
      ]
    },
    {
      "cell_type": "code",
      "source": [
        "# Q 11\n",
        "from google.colab import files\n",
        "from IPython.display import Image\n",
        "uploaded = files.upload()"
      ],
      "metadata": {
        "colab": {
          "base_uri": "https://localhost:8080/",
          "height": 73
        },
        "id": "pxErF8fUCZel",
        "outputId": "82498361-4100-4a5e-a157-872ebcfb32f0"
      },
      "execution_count": 27,
      "outputs": [
        {
          "output_type": "display_data",
          "data": {
            "text/plain": [
              "<IPython.core.display.HTML object>"
            ],
            "text/html": [
              "\n",
              "     <input type=\"file\" id=\"files-8c120a55-da36-47f8-a20e-4979204394ca\" name=\"files[]\" multiple disabled\n",
              "        style=\"border:none\" />\n",
              "     <output id=\"result-8c120a55-da36-47f8-a20e-4979204394ca\">\n",
              "      Upload widget is only available when the cell has been executed in the\n",
              "      current browser session. Please rerun this cell to enable.\n",
              "      </output>\n",
              "      <script>// Copyright 2017 Google LLC\n",
              "//\n",
              "// Licensed under the Apache License, Version 2.0 (the \"License\");\n",
              "// you may not use this file except in compliance with the License.\n",
              "// You may obtain a copy of the License at\n",
              "//\n",
              "//      http://www.apache.org/licenses/LICENSE-2.0\n",
              "//\n",
              "// Unless required by applicable law or agreed to in writing, software\n",
              "// distributed under the License is distributed on an \"AS IS\" BASIS,\n",
              "// WITHOUT WARRANTIES OR CONDITIONS OF ANY KIND, either express or implied.\n",
              "// See the License for the specific language governing permissions and\n",
              "// limitations under the License.\n",
              "\n",
              "/**\n",
              " * @fileoverview Helpers for google.colab Python module.\n",
              " */\n",
              "(function(scope) {\n",
              "function span(text, styleAttributes = {}) {\n",
              "  const element = document.createElement('span');\n",
              "  element.textContent = text;\n",
              "  for (const key of Object.keys(styleAttributes)) {\n",
              "    element.style[key] = styleAttributes[key];\n",
              "  }\n",
              "  return element;\n",
              "}\n",
              "\n",
              "// Max number of bytes which will be uploaded at a time.\n",
              "const MAX_PAYLOAD_SIZE = 100 * 1024;\n",
              "\n",
              "function _uploadFiles(inputId, outputId) {\n",
              "  const steps = uploadFilesStep(inputId, outputId);\n",
              "  const outputElement = document.getElementById(outputId);\n",
              "  // Cache steps on the outputElement to make it available for the next call\n",
              "  // to uploadFilesContinue from Python.\n",
              "  outputElement.steps = steps;\n",
              "\n",
              "  return _uploadFilesContinue(outputId);\n",
              "}\n",
              "\n",
              "// This is roughly an async generator (not supported in the browser yet),\n",
              "// where there are multiple asynchronous steps and the Python side is going\n",
              "// to poll for completion of each step.\n",
              "// This uses a Promise to block the python side on completion of each step,\n",
              "// then passes the result of the previous step as the input to the next step.\n",
              "function _uploadFilesContinue(outputId) {\n",
              "  const outputElement = document.getElementById(outputId);\n",
              "  const steps = outputElement.steps;\n",
              "\n",
              "  const next = steps.next(outputElement.lastPromiseValue);\n",
              "  return Promise.resolve(next.value.promise).then((value) => {\n",
              "    // Cache the last promise value to make it available to the next\n",
              "    // step of the generator.\n",
              "    outputElement.lastPromiseValue = value;\n",
              "    return next.value.response;\n",
              "  });\n",
              "}\n",
              "\n",
              "/**\n",
              " * Generator function which is called between each async step of the upload\n",
              " * process.\n",
              " * @param {string} inputId Element ID of the input file picker element.\n",
              " * @param {string} outputId Element ID of the output display.\n",
              " * @return {!Iterable<!Object>} Iterable of next steps.\n",
              " */\n",
              "function* uploadFilesStep(inputId, outputId) {\n",
              "  const inputElement = document.getElementById(inputId);\n",
              "  inputElement.disabled = false;\n",
              "\n",
              "  const outputElement = document.getElementById(outputId);\n",
              "  outputElement.innerHTML = '';\n",
              "\n",
              "  const pickedPromise = new Promise((resolve) => {\n",
              "    inputElement.addEventListener('change', (e) => {\n",
              "      resolve(e.target.files);\n",
              "    });\n",
              "  });\n",
              "\n",
              "  const cancel = document.createElement('button');\n",
              "  inputElement.parentElement.appendChild(cancel);\n",
              "  cancel.textContent = 'Cancel upload';\n",
              "  const cancelPromise = new Promise((resolve) => {\n",
              "    cancel.onclick = () => {\n",
              "      resolve(null);\n",
              "    };\n",
              "  });\n",
              "\n",
              "  // Wait for the user to pick the files.\n",
              "  const files = yield {\n",
              "    promise: Promise.race([pickedPromise, cancelPromise]),\n",
              "    response: {\n",
              "      action: 'starting',\n",
              "    }\n",
              "  };\n",
              "\n",
              "  cancel.remove();\n",
              "\n",
              "  // Disable the input element since further picks are not allowed.\n",
              "  inputElement.disabled = true;\n",
              "\n",
              "  if (!files) {\n",
              "    return {\n",
              "      response: {\n",
              "        action: 'complete',\n",
              "      }\n",
              "    };\n",
              "  }\n",
              "\n",
              "  for (const file of files) {\n",
              "    const li = document.createElement('li');\n",
              "    li.append(span(file.name, {fontWeight: 'bold'}));\n",
              "    li.append(span(\n",
              "        `(${file.type || 'n/a'}) - ${file.size} bytes, ` +\n",
              "        `last modified: ${\n",
              "            file.lastModifiedDate ? file.lastModifiedDate.toLocaleDateString() :\n",
              "                                    'n/a'} - `));\n",
              "    const percent = span('0% done');\n",
              "    li.appendChild(percent);\n",
              "\n",
              "    outputElement.appendChild(li);\n",
              "\n",
              "    const fileDataPromise = new Promise((resolve) => {\n",
              "      const reader = new FileReader();\n",
              "      reader.onload = (e) => {\n",
              "        resolve(e.target.result);\n",
              "      };\n",
              "      reader.readAsArrayBuffer(file);\n",
              "    });\n",
              "    // Wait for the data to be ready.\n",
              "    let fileData = yield {\n",
              "      promise: fileDataPromise,\n",
              "      response: {\n",
              "        action: 'continue',\n",
              "      }\n",
              "    };\n",
              "\n",
              "    // Use a chunked sending to avoid message size limits. See b/62115660.\n",
              "    let position = 0;\n",
              "    do {\n",
              "      const length = Math.min(fileData.byteLength - position, MAX_PAYLOAD_SIZE);\n",
              "      const chunk = new Uint8Array(fileData, position, length);\n",
              "      position += length;\n",
              "\n",
              "      const base64 = btoa(String.fromCharCode.apply(null, chunk));\n",
              "      yield {\n",
              "        response: {\n",
              "          action: 'append',\n",
              "          file: file.name,\n",
              "          data: base64,\n",
              "        },\n",
              "      };\n",
              "\n",
              "      let percentDone = fileData.byteLength === 0 ?\n",
              "          100 :\n",
              "          Math.round((position / fileData.byteLength) * 100);\n",
              "      percent.textContent = `${percentDone}% done`;\n",
              "\n",
              "    } while (position < fileData.byteLength);\n",
              "  }\n",
              "\n",
              "  // All done.\n",
              "  yield {\n",
              "    response: {\n",
              "      action: 'complete',\n",
              "    }\n",
              "  };\n",
              "}\n",
              "\n",
              "scope.google = scope.google || {};\n",
              "scope.google.colab = scope.google.colab || {};\n",
              "scope.google.colab._files = {\n",
              "  _uploadFiles,\n",
              "  _uploadFilesContinue,\n",
              "};\n",
              "})(self);\n",
              "</script> "
            ]
          },
          "metadata": {}
        },
        {
          "output_type": "stream",
          "name": "stdout",
          "text": [
            "Saving WhatsApp Image 2025-06-27 at 4.27.20 PM.jpeg to WhatsApp Image 2025-06-27 at 4.27.20 PM.jpeg\n"
          ]
        }
      ]
    },
    {
      "cell_type": "code",
      "source": [
        "#Practical Questions:"
      ],
      "metadata": {
        "id": "c4vLgSJmDQVS"
      },
      "execution_count": null,
      "outputs": []
    },
    {
      "cell_type": "code",
      "source": [
        "# Q 1) Write a Python function that takes a list of numbers as input and returns the sum of all even numbers in the list?\n",
        "#Sum of all even numbers in a list\n",
        "def sum_even_numbers(numbers):\n",
        "    return sum(num for num in numbers if num % 2 == 0)\n",
        "\n",
        "# Example\n",
        "print(sum_even_numbers([1, 2, 3, 4, 5, 6]))  # Output: 12\n"
      ],
      "metadata": {
        "colab": {
          "base_uri": "https://localhost:8080/"
        },
        "id": "fxtMn212DhnJ",
        "outputId": "e034153f-b8f3-4e1f-a761-88ed14e736da"
      },
      "execution_count": 28,
      "outputs": [
        {
          "output_type": "stream",
          "name": "stdout",
          "text": [
            "12\n"
          ]
        }
      ]
    },
    {
      "cell_type": "code",
      "source": [
        "# Q 2) Create a Python function that accepts a string and returns the reverse of that string?\n",
        "\n",
        "#Reverse a string\n",
        "def reverse_string(s):\n",
        "    return s[::-1]\n",
        "\n",
        "# Example\n",
        "print(reverse_string(\"hello\"))  # Output: \"olleh\"\n"
      ],
      "metadata": {
        "colab": {
          "base_uri": "https://localhost:8080/"
        },
        "id": "VBSi7v6RERyF",
        "outputId": "d15ca7ae-7b1c-4c2d-fe9a-b2138a2052c0"
      },
      "execution_count": 29,
      "outputs": [
        {
          "output_type": "stream",
          "name": "stdout",
          "text": [
            "olleh\n"
          ]
        }
      ]
    },
    {
      "cell_type": "code",
      "source": [
        "# Q 3) . Implement a Python function that takes a list of integers and returns a new list containing the squares of each number?\n",
        "#Squares of each number in a list\n",
        "def square_list(numbers):\n",
        "    return [x ** 2 for x in numbers]\n",
        "\n",
        "# Example\n",
        "print(square_list([1, 2, 3]))  # Output: [1, 4, 9]\n"
      ],
      "metadata": {
        "colab": {
          "base_uri": "https://localhost:8080/"
        },
        "id": "srvrtzf4EjuE",
        "outputId": "23904247-ada2-4191-cebd-d3037734ea3a"
      },
      "execution_count": 30,
      "outputs": [
        {
          "output_type": "stream",
          "name": "stdout",
          "text": [
            "[1, 4, 9]\n"
          ]
        }
      ]
    },
    {
      "cell_type": "code",
      "source": [
        "#Q 4) Write a Python function that checks if a given number is prime or not from 1 to 200?\n",
        "#Check if numbers from 1 to 200 are prime\n",
        "def is_prime(n):\n",
        "    if n <= 1:\n",
        "        return False\n",
        "    for i in range(2, int(n**0.5)+1):\n",
        "        if n % i == 0:\n",
        "            return False\n",
        "    return True\n",
        "\n",
        "# Print primes from 1 to 200\n",
        "for i in range(1, 201):\n",
        "    if is_prime(i):\n",
        "        print(i, end=\" \")\n"
      ],
      "metadata": {
        "colab": {
          "base_uri": "https://localhost:8080/"
        },
        "id": "FpY3UqBUFCSG",
        "outputId": "737c6d8d-a5d4-4ff4-8c34-98c1bec2ffef"
      },
      "execution_count": 31,
      "outputs": [
        {
          "output_type": "stream",
          "name": "stdout",
          "text": [
            "2 3 5 7 11 13 17 19 23 29 31 37 41 43 47 53 59 61 67 71 73 79 83 89 97 101 103 107 109 113 127 131 137 139 149 151 157 163 167 173 179 181 191 193 197 199 "
          ]
        }
      ]
    },
    {
      "cell_type": "code",
      "source": [
        "# Q 5) Create an iterator class in Python that generates the Fibonacci sequence up to a specified number of terms?\n",
        "#Fibonacci sequence using an iterator class\n",
        "class Fibonacci:\n",
        "    def __init__(self, limit):\n",
        "        self.limit = limit\n",
        "        self.a, self.b = 0, 1\n",
        "        self.count = 0\n",
        "\n",
        "    def __iter__(self):\n",
        "        return self\n",
        "\n",
        "    def __next__(self):\n",
        "        if self.count < self.limit:\n",
        "            value = self.a\n",
        "            self.a, self.b = self.b, self.a + self.b\n",
        "            self.count += 1\n",
        "            return value\n",
        "        else:\n",
        "            raise StopIteration\n",
        "\n",
        "# Example\n",
        "for num in Fibonacci(10):\n",
        "    print(num, end=\" \")\n"
      ],
      "metadata": {
        "colab": {
          "base_uri": "https://localhost:8080/"
        },
        "id": "txDdHSnEFTgs",
        "outputId": "c57f454b-9a9f-4b13-9061-08a24cd0791e"
      },
      "execution_count": 32,
      "outputs": [
        {
          "output_type": "stream",
          "name": "stdout",
          "text": [
            "0 1 1 2 3 5 8 13 21 34 "
          ]
        }
      ]
    },
    {
      "cell_type": "code",
      "source": [
        "# Q6) Write a generator function in Python that yields the powers of 2 up to a given exponent?\n",
        "#Generator function to yield powers of 2\n",
        "def powers_of_two(max_exponent):\n",
        "    for i in range(max_exponent + 1):\n",
        "        yield 2 ** i\n",
        "\n",
        "# Example\n",
        "for power in powers_of_two(5):\n",
        "    print(power, end=\" \")  # Output: 1 2 4 8 16 32\n"
      ],
      "metadata": {
        "colab": {
          "base_uri": "https://localhost:8080/"
        },
        "id": "VuIgDus5FsMN",
        "outputId": "2f1b6591-dd80-494b-89e5-e5d6054f50f3"
      },
      "execution_count": 33,
      "outputs": [
        {
          "output_type": "stream",
          "name": "stdout",
          "text": [
            "1 2 4 8 16 32 "
          ]
        }
      ]
    },
    {
      "cell_type": "code",
      "source": [
        "# Q7) Implement a generator function that reads a file line by line and yields each line as a string?\n",
        "#Generator to read a file line by line\n",
        "def read_lines(filename):\n",
        "    with open(filename, 'r') as file:\n",
        "        for line in file:\n",
        "            yield line.strip()\n",
        "\n",
        "# Example usage (you must have a file named \"sample.txt\")\n",
        "# for line in read_lines(\"sample.txt\"):\n",
        "#     print(line)\n"
      ],
      "metadata": {
        "id": "VPyBAr-VF_VO"
      },
      "execution_count": 35,
      "outputs": []
    },
    {
      "cell_type": "code",
      "source": [
        "# Q 8) Use a lambda function in Python to sort a list of tuples based on the second element of each tuple?\n",
        "#Sort list of tuples by second element using lambda\n",
        "data = [(1, 3), (2, 1), (4, 2)]\n",
        "sorted_data = sorted(data, key=lambda x: x[1])\n",
        "print(sorted_data)  # Output: [(2, 1), (4, 2), (1, 3)]\n"
      ],
      "metadata": {
        "colab": {
          "base_uri": "https://localhost:8080/"
        },
        "id": "oCh2VmCnGOAU",
        "outputId": "2b488fab-135b-444a-df96-02f32af2b58f"
      },
      "execution_count": 36,
      "outputs": [
        {
          "output_type": "stream",
          "name": "stdout",
          "text": [
            "[(2, 1), (4, 2), (1, 3)]\n"
          ]
        }
      ]
    },
    {
      "cell_type": "code",
      "source": [
        "# Q 9)  Write a Python program that uses `map()` to convert a list of temperatures from Celsius to Fahrenheit?\n",
        "#Use map() to convert Celsius to Fahrenheit\n",
        "celsius = [0, 20, 37, 100]\n",
        "fahrenheit = list(map(lambda c: (c * 9/5) + 32, celsius))\n",
        "print(fahrenheit)  # Output: [32.0, 68.0, 98.6, 212.0]\n"
      ],
      "metadata": {
        "colab": {
          "base_uri": "https://localhost:8080/"
        },
        "id": "E4gx_YM3GhSE",
        "outputId": "143231bb-5084-43d1-f97a-0560b840b901"
      },
      "execution_count": 37,
      "outputs": [
        {
          "output_type": "stream",
          "name": "stdout",
          "text": [
            "[32.0, 68.0, 98.6, 212.0]\n"
          ]
        }
      ]
    },
    {
      "cell_type": "code",
      "source": [
        "# Q 10) Create a Python program that uses `filter()` to remove all the vowels from a given string?\n",
        "#Use filter() to remove vowels from a string\n",
        "def remove_vowels(s):\n",
        "    return ''.join(filter(lambda ch: ch.lower() not in 'aeiou', s))\n",
        "\n",
        "# Example\n",
        "print(remove_vowels(\"Hello World\"))  # Output: \"Hll Wrld\"\n"
      ],
      "metadata": {
        "colab": {
          "base_uri": "https://localhost:8080/"
        },
        "id": "Xm85JmdOGsgd",
        "outputId": "3cb9465e-e8ed-4f7c-f27a-57a3a0212122"
      },
      "execution_count": 38,
      "outputs": [
        {
          "output_type": "stream",
          "name": "stdout",
          "text": [
            "Hll Wrld\n"
          ]
        }
      ]
    },
    {
      "cell_type": "code",
      "source": [
        "# Q 11) Write a Python program, which returns a list with 2-tuples. Each tuple consists of the order number and theproduct of the price per item and the quantity. The product should be increased by 10,- € if the value of the order is smaller than 100,00 €.Write a Python program using lambda and map.\n",
        "# Input list: each sublist = [Order Number, Book Title, Quantity, Price per Item]\n",
        "orders = [\n",
        "    [34587, \"Learning Python, Mark Lutz\", 4, 40.95],\n",
        "    [98762, \"Programming Python, Mark Lutz\", 5, 56.80],\n",
        "    [77226, \"Head First Python, Paul Barry\", 3, 32.95],\n",
        "    [88112, \"Einführung in Python3, Bernd Klein\", 3, 24.99]\n",
        "]\n",
        "\n",
        "# Using map and lambda to calculate totals with conditional €10 fee\n",
        "result = list(map(\n",
        "    lambda order: (\n",
        "        order[0],\n",
        "        round(order[2] * order[3] + (10 if order[2] * order[3] < 100 else 0), 2)\n",
        "    ),\n",
        "    orders\n",
        "))\n",
        "\n",
        "# Print the result\n",
        "print(result)\n"
      ],
      "metadata": {
        "colab": {
          "base_uri": "https://localhost:8080/"
        },
        "id": "afsr-NXLIKcO",
        "outputId": "7cf60f25-b76e-4459-a7ae-2ebbb14b3648"
      },
      "execution_count": 39,
      "outputs": [
        {
          "output_type": "stream",
          "name": "stdout",
          "text": [
            "[(34587, 163.8), (98762, 284.0), (77226, 108.85), (88112, 84.97)]\n"
          ]
        }
      ]
    },
    {
      "cell_type": "code",
      "source": [],
      "metadata": {
        "id": "3ZG_uIWxIkJg"
      },
      "execution_count": null,
      "outputs": []
    }
  ]
}